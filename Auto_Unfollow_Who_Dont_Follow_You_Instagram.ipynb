{
 "cells": [
  {
   "cell_type": "code",
   "execution_count": 252,
   "id": "fbebbbb1",
   "metadata": {},
   "outputs": [],
   "source": [
    "from selenium.webdriver import Chrome\n",
    "from selenium.webdriver.common.by import By\n",
    "from selenium.webdriver import ChromeOptions\n",
    "import time\n",
    "from selenium.webdriver.common.keys import Keys"
   ]
  },
  {
   "cell_type": "code",
   "execution_count": 253,
   "id": "5372e6fa",
   "metadata": {},
   "outputs": [],
   "source": [
    "driverpath=\"C:/Users/mohit.chaniyal/Downloads/chromedriver.exe\" #provide driver location here"
   ]
  },
  {
   "cell_type": "code",
   "execution_count": 254,
   "id": "c12cdfc4",
   "metadata": {},
   "outputs": [],
   "source": [
    "# with open(\"myinstacred.txt\",\"r\") as f:\n",
    "#     uname,passwd=[x.replace(\"\\n\",\"\") for x in f.readlines()]\n",
    "uname=\"Your Username Here\"  \n",
    "passwd=\"Your Password Here\""
   ]
  },
  {
   "cell_type": "code",
   "execution_count": 255,
   "id": "e4acfc6c",
   "metadata": {},
   "outputs": [
    {
     "name": "stderr",
     "output_type": "stream",
     "text": [
      "C:\\Users\\mohit.chaniyal\\AppData\\Local\\Temp\\ipykernel_60736\\2579061682.py:4: DeprecationWarning: executable_path has been deprecated, please pass in a Service object\n",
      "  driver =Chrome(options=chrome_options,executable_path=driverpath)\n"
     ]
    }
   ],
   "source": [
    "mobile_emulation = {\"deviceName\": \"iPhone X\"}\n",
    "chrome_options = ChromeOptions()\n",
    "chrome_options.add_experimental_option(\"mobileEmulation\", mobile_emulation)\n",
    "driver =Chrome(options=chrome_options,executable_path=driverpath)\n",
    "driver.get(\"https://www.instagram.com/\")\n",
    "\n",
    "driver.set_window_size(375, 812)  # iPhone X resolution: 375x812"
   ]
  },
  {
   "cell_type": "code",
   "execution_count": 256,
   "id": "d9364a3e",
   "metadata": {},
   "outputs": [],
   "source": [
    "#login\n",
    "time.sleep(2)\n",
    "driver.find_element(By.XPATH,\"//div[text()='Log in']\").click()\n",
    "time.sleep(2)\n",
    "driver.find_element(By.NAME,\"username\").send_keys(uname)\n",
    "driver.find_element(By.NAME,\"password\").send_keys(passwd)\n",
    "driver.find_element(By.XPATH,\"//div[text()='Log in']\").click()\n"
   ]
  },
  {
   "cell_type": "code",
   "execution_count": 200,
   "id": "1e12368a",
   "metadata": {
    "scrolled": true
   },
   "outputs": [],
   "source": [
    "#scraping all the instagram followers\n",
    "\n",
    "driver.get(f\"https://www.instagram.com/{uname}/followers/\")\n",
    "time.sleep(3)\n",
    "prev_height=driver.execute_script(\"return document.body.scrollHeight\")\n",
    "followers_set=set()\n",
    "while True :\n",
    "    followers_list=driver.find_elements(By.XPATH,\"//span[@class='_aacl _aaco _aacw _aacx _aad7 _aade']/div\")\n",
    "    for follower in followers_list :\n",
    "        if follower.text not in followers_set:\n",
    "            followers_set.add(follower.text)\n",
    "    driver.execute_script(\"window.scrollTo(0,document.body.scrollHeight);\")\n",
    "    time.sleep(3)\n",
    "    new_height=driver.execute_script(\"return document.body.scrollHeight\")\n",
    "    if new_height==prev_height:\n",
    "        break\n",
    "    prev_height=new_height"
   ]
  },
  {
   "cell_type": "code",
   "execution_count": 150,
   "id": "df488325",
   "metadata": {},
   "outputs": [],
   "source": [
    "#scraping all the the account i follow\n",
    "driver.get(f\"https://www.instagram.com/{uname}/following/\") \n",
    "time.sleep(3)\n",
    "prev_height=driver.execute_script(\"return document.body.scrollHeight\")\n",
    "followings_set=set()\n",
    "while True :\n",
    "    followings_list=driver.find_elements(By.XPATH,\"//span[@class='_aacl _aaco _aacw _aacx _aad7 _aade']/div\")\n",
    "    for following in followings_list :\n",
    "        if following.text not in followings_set:\n",
    "            followings_set.add(following.text)\n",
    "    driver.execute_script(\"window.scrollTo(0,document.body.scrollHeight);\")\n",
    "    time.sleep(3)\n",
    "    new_height=driver.execute_script(\"return document.body.scrollHeight\")\n",
    "    if new_height==prev_height:\n",
    "        break\n",
    "    prev_height=new_height"
   ]
  },
  {
   "cell_type": "code",
   "execution_count": 217,
   "id": "a6cd9543",
   "metadata": {},
   "outputs": [],
   "source": [
    "#saving data to csv files\n",
    "import pandas as pd\n",
    "pd.DataFrame(followings_set,columns=[\"Following\"])[\"Following\"].apply(lambda x : x.replace(\"\\nVerified\",\"\")).to_csv(\"following.csv\",index=False)\n",
    "pd.DataFrame(followers_set,columns=[\"Followers\"])[\"Followers\"].apply(lambda x : x.replace(\"\\nVerified\",\"\")).to_csv(\"followers.csv\",index=False)"
   ]
  },
  {
   "cell_type": "code",
   "execution_count": 218,
   "id": "3211a44b",
   "metadata": {
    "scrolled": false
   },
   "outputs": [],
   "source": [
    "df1=pd.read_csv(\"following.csv\")"
   ]
  },
  {
   "cell_type": "code",
   "execution_count": 220,
   "id": "2da73fcd",
   "metadata": {},
   "outputs": [],
   "source": [
    "df2=pd.read_csv(\"followers.csv\")"
   ]
  },
  {
   "cell_type": "code",
   "execution_count": 237,
   "id": "1e56f712",
   "metadata": {},
   "outputs": [],
   "source": [
    "person_i_follow_but_they_do_not_follow_me=df1[~df1.Following.isin(df2.Followers)]"
   ]
  },
  {
   "cell_type": "code",
   "execution_count": 239,
   "id": "fd407241",
   "metadata": {},
   "outputs": [],
   "source": [
    "pd.set_option('display.max_rows', 200)"
   ]
  },
  {
   "cell_type": "code",
   "execution_count": null,
   "id": "87107d95",
   "metadata": {
    "scrolled": true
   },
   "outputs": [],
   "source": [
    "person_i_follow_but_they_do_not_follow_me"
   ]
  },
  {
   "cell_type": "code",
   "execution_count": null,
   "id": "556f2385",
   "metadata": {},
   "outputs": [],
   "source": [
    "#creating another instance becaouse facing issue with the display size while unfollowing\n",
    "browser=Chrome(executable_path=driverpath)\n",
    "browser.get(\"https://www.instagram.com/\")\n",
    "#login\n",
    "time.sleep(2)\n",
    "browser.find_element(By.NAME,\"username\").send_keys(uname)\n",
    "browser.find_element(By.NAME,\"password\").send_keys(passwd)\n",
    "browser.find_element(By.XPATH,\"//div[text()='Log in']\").click()"
   ]
  },
  {
   "cell_type": "code",
   "execution_count": null,
   "id": "1ba1e0fa",
   "metadata": {},
   "outputs": [],
   "source": [
    "#unfollowing people who dont follow me and are not verified\n",
    "for person in person_i_follow_but_they_do_not_follow_me.Following:\n",
    "    browser.get(f\"https://www.instagram.com/{person}\")\n",
    "    time.sleep(5)\n",
    "    try:\n",
    "        browser.find_element(By.XPATH,\"//span[text()='Verified']\")\n",
    "        continue\n",
    "    except:\n",
    "        try :\n",
    "            browser.find_element(By.XPATH,\"//div[text()='Following']\").click()\n",
    "            time.sleep(5)\n",
    "            browser.find_element(By.XPATH,\"//span[text()='Unfollow']\").click()\n",
    "            time.sleep(2)\n",
    "        except:\n",
    "            print(pe)"
   ]
  }
 ],
 "metadata": {
  "kernelspec": {
   "display_name": "Python 3 (ipykernel)",
   "language": "python",
   "name": "python3"
  },
  "language_info": {
   "codemirror_mode": {
    "name": "ipython",
    "version": 3
   },
   "file_extension": ".py",
   "mimetype": "text/x-python",
   "name": "python",
   "nbconvert_exporter": "python",
   "pygments_lexer": "ipython3",
   "version": "3.9.13"
  }
 },
 "nbformat": 4,
 "nbformat_minor": 5
}
