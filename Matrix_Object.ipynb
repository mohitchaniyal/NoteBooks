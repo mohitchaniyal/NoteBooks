{
 "cells": [
  {
   "cell_type": "code",
   "execution_count": 100,
   "id": "7c9dd2a2",
   "metadata": {},
   "outputs": [],
   "source": [
    "from random import randint\n",
    "class Matrix:\n",
    "    def __init__(self,r,c,types=\"zeros\"):\n",
    "        self.r=r   #rows of matrix\n",
    "        self.c=c   #colums of matrix\n",
    "        self.mat=[]    #actual columns\n",
    "        if types==\"zeros\":\n",
    "            self.zeros()\n",
    "        elif types==\"ones\":\n",
    "            self.ones()\n",
    "        elif types==\"random\":\n",
    "            self.random()\n",
    "    # creating zeros matrix\n",
    "    def zeros(self):\n",
    "        for i in range(self.r):\n",
    "            l=[]\n",
    "            for j in range(self.c):\n",
    "                l.append(0)\n",
    "            self.mat.append(l)\n",
    "    # creating ones matrix\n",
    "    def ones(self):\n",
    "        for i in range(self.r):\n",
    "            l=[]\n",
    "            for j in range(self.c):\n",
    "                l.append(1)\n",
    "            self.mat.append(l)\n",
    "    # creating a random matrix\n",
    "    def random(self):\n",
    "        for i in range(self.r):\n",
    "            l=[]\n",
    "            for j in range(self.c):\n",
    "                l.append(randint(1,100))\n",
    "            self.mat.append(l)\n",
    "            \n",
    "    #adding two matrix \n",
    "    \n",
    "    def __add__(self,other):\n",
    "        if self.r==other.r and self.c==other.c : # because two matrix can only be added if they have same dimension\n",
    "            temp=Matrix(self.r,self.c)\n",
    "            for i in range(self.r):\n",
    "                for j in range(self.c):\n",
    "                    temp[i][j]=self[i][j]+other[i][j]  # we are adding element by element and storing in temp\n",
    "        return temp\n",
    "            \n",
    "    # subtracting two matrix\n",
    "    \n",
    "    def __sub__(self,other):\n",
    "        if self.r==other.r and self.c==other.c : # because two matrix can only be subtracted if they have same dimension\n",
    "            temp=Matrix(self.r,self.c)\n",
    "            for i in range(self.r):\n",
    "                for j in range(self.c):\n",
    "                    temp[i][j]=self[i][j]-other[i][j]  # we are subracting element by element and storing in temp\n",
    "        return temp\n",
    "    \n",
    "    # multiply two matrix \n",
    "    \n",
    "    def __mul__(self,other):\n",
    "        if self.c==other.r:  # for two matrix to multipy first matrix columns should be equal to other matrix rows\n",
    "            temp=Matrix(self.r,self.c)\n",
    "            for i in range(self.r):\n",
    "                for j in range(other.c):\n",
    "                    for k in range(other.r):\n",
    "                        temp[i][j]+=self[i][k]*other[k][j]\n",
    "            return temp\n",
    "    \n",
    "    # transepose of matrix\n",
    "    def transepose(self):\n",
    "        temp=Matrix(self.r,self.c)\n",
    "        for i in range(self.r):\n",
    "            for j in range(self.c):\n",
    "                temp[i][j]=self[j][i]\n",
    "        return temp\n",
    "    # we have to implement indexing\n",
    "    def __getitem__(self,index):\n",
    "        return self.mat[index]\n",
    "    #return in the form of matrix\n",
    "    def __str__(self):\n",
    "        s=\"\"\n",
    "        for i in self.mat:\n",
    "            s=s+str(i)+\"\\n\"\n",
    "            \n",
    "        return s"
   ]
  },
  {
   "cell_type": "code",
   "execution_count": 101,
   "id": "90c7f7f4",
   "metadata": {},
   "outputs": [],
   "source": [
    "mat1=Matrix(2,2)"
   ]
  },
  {
   "cell_type": "code",
   "execution_count": 102,
   "id": "80ddc297",
   "metadata": {},
   "outputs": [
    {
     "name": "stdout",
     "output_type": "stream",
     "text": [
      "[0, 0]\n",
      "[0, 0]\n",
      "\n"
     ]
    }
   ],
   "source": [
    "print(mat1)"
   ]
  },
  {
   "cell_type": "code",
   "execution_count": 103,
   "id": "82cd7fc9",
   "metadata": {},
   "outputs": [],
   "source": [
    "mat2=Matrix(2,2,types=\"ones\")"
   ]
  },
  {
   "cell_type": "code",
   "execution_count": 104,
   "id": "2fdb4262",
   "metadata": {},
   "outputs": [
    {
     "name": "stdout",
     "output_type": "stream",
     "text": [
      "[1, 1]\n",
      "[1, 1]\n",
      "\n"
     ]
    }
   ],
   "source": [
    "print(mat2)"
   ]
  },
  {
   "cell_type": "code",
   "execution_count": 105,
   "id": "85443e79",
   "metadata": {},
   "outputs": [],
   "source": [
    "mat3=Matrix(2,2,types=\"random\")"
   ]
  },
  {
   "cell_type": "code",
   "execution_count": 106,
   "id": "5c047064",
   "metadata": {},
   "outputs": [
    {
     "name": "stdout",
     "output_type": "stream",
     "text": [
      "[61, 56]\n",
      "[24, 56]\n",
      "\n"
     ]
    }
   ],
   "source": [
    "print(mat3)"
   ]
  },
  {
   "cell_type": "code",
   "execution_count": 107,
   "id": "b79bba07",
   "metadata": {},
   "outputs": [
    {
     "name": "stdout",
     "output_type": "stream",
     "text": [
      "[62, 57]\n",
      "[25, 57]\n",
      "\n"
     ]
    }
   ],
   "source": [
    "print(mat2+mat3)  # perfect"
   ]
  },
  {
   "cell_type": "code",
   "execution_count": 108,
   "id": "3b770648",
   "metadata": {},
   "outputs": [
    {
     "name": "stdout",
     "output_type": "stream",
     "text": [
      "[-60, -55]\n",
      "[-23, -55]\n",
      "\n"
     ]
    }
   ],
   "source": [
    "print(mat2-mat3)  # perfect"
   ]
  },
  {
   "cell_type": "code",
   "execution_count": 109,
   "id": "42f31877",
   "metadata": {},
   "outputs": [
    {
     "name": "stdout",
     "output_type": "stream",
     "text": [
      "[85, 112]\n",
      "[85, 112]\n",
      "\n"
     ]
    }
   ],
   "source": [
    "print(mat2*mat3) # perfect"
   ]
  },
  {
   "cell_type": "code",
   "execution_count": 112,
   "id": "4d2d781f",
   "metadata": {},
   "outputs": [
    {
     "name": "stdout",
     "output_type": "stream",
     "text": [
      "[61, 24]\n",
      "[56, 56]\n",
      "\n"
     ]
    }
   ],
   "source": [
    "print(mat3.transepose())"
   ]
  },
  {
   "cell_type": "code",
   "execution_count": 113,
   "id": "b48b9b31",
   "metadata": {},
   "outputs": [
    {
     "name": "stdout",
     "output_type": "stream",
     "text": [
      "[61, 56]\n",
      "[24, 56]\n",
      "\n"
     ]
    }
   ],
   "source": [
    "print(mat3)  # rows are columns and columns are row # perfect"
   ]
  }
 ],
 "metadata": {
  "kernelspec": {
   "display_name": "Python 3 (ipykernel)",
   "language": "python",
   "name": "python3"
  },
  "language_info": {
   "codemirror_mode": {
    "name": "ipython",
    "version": 3
   },
   "file_extension": ".py",
   "mimetype": "text/x-python",
   "name": "python",
   "nbconvert_exporter": "python",
   "pygments_lexer": "ipython3",
   "version": "3.9.13"
  }
 },
 "nbformat": 4,
 "nbformat_minor": 5
}
